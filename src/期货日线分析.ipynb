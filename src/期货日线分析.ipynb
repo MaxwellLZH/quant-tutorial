{
 "cells": [
  {
   "cell_type": "code",
   "execution_count": 1,
   "id": "71f1a668",
   "metadata": {},
   "outputs": [],
   "source": [
    "import pandas as pd\n",
    "import numpy as np\n",
    "import matplotlib.pyplot as plt\n",
    "\n",
    "%matplotlib inline"
   ]
  },
  {
   "cell_type": "code",
   "execution_count": null,
   "id": "73eb68fa",
   "metadata": {},
   "outputs": [],
   "source": []
  },
  {
   "cell_type": "code",
   "execution_count": 27,
   "id": "16bc1f0d",
   "metadata": {},
   "outputs": [
    {
     "data": {
      "text/plain": [
       "(126274, 7)"
      ]
     },
     "execution_count": 27,
     "metadata": {},
     "output_type": "execute_result"
    }
   ],
   "source": [
    "df = pd.read_csv('./数据/future_price.csv')\n",
    "df['date'] = pd.to_datetime(df['date'])\n",
    "df = df.set_index('date').sort_index()\n",
    "df.shape"
   ]
  },
  {
   "cell_type": "code",
   "execution_count": 28,
   "id": "8c66db32",
   "metadata": {},
   "outputs": [
    {
     "data": {
      "text/html": [
       "<div>\n",
       "<style scoped>\n",
       "    .dataframe tbody tr th:only-of-type {\n",
       "        vertical-align: middle;\n",
       "    }\n",
       "\n",
       "    .dataframe tbody tr th {\n",
       "        vertical-align: top;\n",
       "    }\n",
       "\n",
       "    .dataframe thead th {\n",
       "        text-align: right;\n",
       "    }\n",
       "</style>\n",
       "<table border=\"1\" class=\"dataframe\">\n",
       "  <thead>\n",
       "    <tr style=\"text-align: right;\">\n",
       "      <th></th>\n",
       "      <th>open</th>\n",
       "      <th>high</th>\n",
       "      <th>low</th>\n",
       "      <th>close</th>\n",
       "      <th>volume</th>\n",
       "      <th>code</th>\n",
       "      <th>name</th>\n",
       "    </tr>\n",
       "    <tr>\n",
       "      <th>date</th>\n",
       "      <th></th>\n",
       "      <th></th>\n",
       "      <th></th>\n",
       "      <th></th>\n",
       "      <th></th>\n",
       "      <th></th>\n",
       "      <th></th>\n",
       "    </tr>\n",
       "  </thead>\n",
       "  <tbody>\n",
       "    <tr>\n",
       "      <th>2005-01-04</th>\n",
       "      <td>12040.0</td>\n",
       "      <td>12090.0</td>\n",
       "      <td>11945.0</td>\n",
       "      <td>12025.0</td>\n",
       "      <td>3856</td>\n",
       "      <td>RU0</td>\n",
       "      <td>橡胶连续</td>\n",
       "    </tr>\n",
       "    <tr>\n",
       "      <th>2005-01-04</th>\n",
       "      <td>2890.0</td>\n",
       "      <td>2890.0</td>\n",
       "      <td>2850.0</td>\n",
       "      <td>2868.0</td>\n",
       "      <td>7968</td>\n",
       "      <td>A0</td>\n",
       "      <td>豆一连续</td>\n",
       "    </tr>\n",
       "    <tr>\n",
       "      <th>2005-01-04</th>\n",
       "      <td>1150.0</td>\n",
       "      <td>1154.0</td>\n",
       "      <td>1143.0</td>\n",
       "      <td>1145.0</td>\n",
       "      <td>101322</td>\n",
       "      <td>C0</td>\n",
       "      <td>玉米连续</td>\n",
       "    </tr>\n",
       "    <tr>\n",
       "      <th>2005-01-04</th>\n",
       "      <td>1665.0</td>\n",
       "      <td>1668.0</td>\n",
       "      <td>1659.0</td>\n",
       "      <td>1663.0</td>\n",
       "      <td>48868</td>\n",
       "      <td>WH0</td>\n",
       "      <td>强麦连续</td>\n",
       "    </tr>\n",
       "    <tr>\n",
       "      <th>2005-01-04</th>\n",
       "      <td>2150.0</td>\n",
       "      <td>2155.0</td>\n",
       "      <td>2142.0</td>\n",
       "      <td>2150.0</td>\n",
       "      <td>58792</td>\n",
       "      <td>M0</td>\n",
       "      <td>豆粕连续</td>\n",
       "    </tr>\n",
       "  </tbody>\n",
       "</table>\n",
       "</div>"
      ],
      "text/plain": [
       "               open     high      low    close  volume code  name\n",
       "date                                                             \n",
       "2005-01-04  12040.0  12090.0  11945.0  12025.0    3856  RU0  橡胶连续\n",
       "2005-01-04   2890.0   2890.0   2850.0   2868.0    7968   A0  豆一连续\n",
       "2005-01-04   1150.0   1154.0   1143.0   1145.0  101322   C0  玉米连续\n",
       "2005-01-04   1665.0   1668.0   1659.0   1663.0   48868  WH0  强麦连续\n",
       "2005-01-04   2150.0   2155.0   2142.0   2150.0   58792   M0  豆粕连续"
      ]
     },
     "execution_count": 28,
     "metadata": {},
     "output_type": "execute_result"
    }
   ],
   "source": [
    "df.head()"
   ]
  },
  {
   "cell_type": "code",
   "execution_count": 11,
   "id": "86472baa",
   "metadata": {},
   "outputs": [
    {
     "data": {
      "text/plain": [
       "array(['螺纹钢连续', '线材连续', '沪铜连续', '沪铝连续', '橡胶连续', '燃油连续', '沪锌连续', '黄金连续',\n",
       "       '白银连续', '沥青连续', '热轧卷板连续', '沪镍连续', '沪铅连续', '原油连续', '沪锡连续', '纸浆连续',\n",
       "       '豆一连续', '豆二连续', '玉米连续', '玉米淀粉连续', '乙二醇连续', '纤维板连续', '铁矿石连续',\n",
       "       '焦炭连续', '鸡蛋连续', '焦煤连续', '塑料连续', '豆粕连续', '棕榈连续', 'PP连续', 'PVC连续',\n",
       "       '豆油连续', '鲜苹果连续', '棉花连续', '红枣连续', '棉纱连续', '玻璃连续', '粳稻连续', '晚籼稻连续',\n",
       "       '郑醇连续', '菜油连续', '早籼稻连续', '菜粕连续', '菜籽连续', '硅铁连续', '锰硅连续', '白糖连续',\n",
       "       'PTA连续', '强麦连续', '动力煤连续'], dtype=object)"
      ]
     },
     "execution_count": 11,
     "metadata": {},
     "output_type": "execute_result"
    }
   ],
   "source": [
    "df.name.unique()"
   ]
  },
  {
   "cell_type": "code",
   "execution_count": null,
   "id": "79200a19",
   "metadata": {},
   "outputs": [],
   "source": []
  },
  {
   "cell_type": "code",
   "execution_count": 20,
   "id": "f149a2e7",
   "metadata": {},
   "outputs": [
    {
     "data": {
      "text/plain": [
       "<AxesSubplot:xlabel='date'>"
      ]
     },
     "execution_count": 20,
     "metadata": {},
     "output_type": "execute_result"
    },
    {
     "data": {
      "image/png": "[encoded data removed]",
      "text/plain": [
       "<Figure size 432x288 with 1 Axes>"
      ]
     },
     "metadata": {
      "needs_background": "light"
     },
     "output_type": "display_data"
    }
   ],
   "source": [
    "c = '玉米连续'\n",
    "\n",
    "df[df['name']==c].set_index('date')['close'].loc['2012':].plot()"
   ]
  },
  {
   "cell_type": "code",
   "execution_count": null,
   "id": "c989fb87",
   "metadata": {},
   "outputs": [],
   "source": []
  },
  {
   "cell_type": "code",
   "execution_count": null,
   "id": "03838d43",
   "metadata": {},
   "outputs": [],
   "source": []
  },
  {
   "cell_type": "markdown",
   "id": "3421d5d7",
   "metadata": {},
   "source": [
    "# 按交易量排序"
   ]
  },
  {
   "cell_type": "code",
   "execution_count": 32,
   "id": "f06618c2",
   "metadata": {},
   "outputs": [
    {
     "data": {
      "text/plain": [
       "name\n",
       "螺纹钢连续     2.259011e+06\n",
       "PTA连续     1.791308e+06\n",
       "郑醇连续      1.520480e+06\n",
       "燃油连续      1.117434e+06\n",
       "豆粕连续      1.026893e+06\n",
       "菜粕连续      9.001640e+05\n",
       "棕榈连续      7.959179e+05\n",
       "玻璃连续      7.923279e+05\n",
       "豆油连续      7.730895e+05\n",
       "热轧卷板连续    7.309732e+05\n",
       "白银连续      7.177505e+05\n",
       "PP连续      6.928446e+05\n",
       "PVC连续     5.681369e+05\n",
       "玉米连续      5.564417e+05\n",
       "沪镍连续      5.543643e+05\n",
       "铁矿石连续     5.038371e+05\n",
       "沥青连续      5.023994e+05\n",
       "塑料连续      4.655666e+05\n",
       "乙二醇连续     4.244559e+05\n",
       "菜油连续      3.832609e+05\n",
       "棉花连续      3.774325e+05\n",
       "鲜苹果连续     3.731735e+05\n",
       "硅铁连续      3.465019e+05\n",
       "动力煤连续     3.326895e+05\n",
       "纸浆连续      3.254464e+05\n",
       "沪铝连续      3.045797e+05\n",
       "锰硅连续      3.015404e+05\n",
       "白糖连续      2.702163e+05\n",
       "焦炭连续      2.355152e+05\n",
       "橡胶连续      2.193514e+05\n",
       "焦煤连续      2.165735e+05\n",
       "鸡蛋连续      2.016014e+05\n",
       "沪锌连续      1.813806e+05\n",
       "玉米淀粉连续    1.601976e+05\n",
       "沪铜连续      1.511914e+05\n",
       "豆一连续      1.402199e+05\n",
       "黄金连续      1.281004e+05\n",
       "原油连续      1.149448e+05\n",
       "红枣连续      8.454202e+04\n",
       "沪锡连续      7.659637e+04\n",
       "沪铅连续      6.809031e+04\n",
       "豆二连续      3.340819e+04\n",
       "棉纱连续      1.269303e+04\n",
       "纤维板连续     6.581582e+03\n",
       "线材连续      7.454327e+01\n",
       "强麦连续      5.998266e+01\n",
       "菜籽连续      4.176699e+01\n",
       "粳稻连续      1.379293e+01\n",
       "早籼稻连续     7.915254e+00\n",
       "Name: volume, dtype: float64"
      ]
     },
     "execution_count": 32,
     "metadata": {},
     "output_type": "execute_result"
    }
   ],
   "source": [
    "df.loc['2021': ].groupby('name')['volume'].mean().sort_values(ascending=False)"
   ]
  },
  {
   "cell_type": "code",
   "execution_count": null,
   "id": "81aad7cf",
   "metadata": {},
   "outputs": [],
   "source": []
  },
  {
   "cell_type": "code",
   "execution_count": null,
   "id": "4ee98d5a",
   "metadata": {},
   "outputs": [],
   "source": []
  },
  {
   "cell_type": "code",
   "execution_count": null,
   "id": "7eef5da6",
   "metadata": {},
   "outputs": [],
   "source": []
  }
 ],
 "metadata": {
  "kernelspec": {
   "display_name": "Python 3",
   "language": "python",
   "name": "python3"
  },
  "language_info": {
   "codemirror_mode": {
    "name": "ipython",
    "version": 3
   },
   "file_extension": ".py",
   "mimetype": "text/x-python",
   "name": "python",
   "nbconvert_exporter": "python",
   "pygments_lexer": "ipython3",
   "version": "3.8.8"
  }
 },
 "nbformat": 4,
 "nbformat_minor": 5
}
